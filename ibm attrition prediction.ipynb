{
 "cells": [
  {
   "cell_type": "code",
   "execution_count": 58,
   "id": "51ed75a1-17ab-40c4-be60-05d69a01b1be",
   "metadata": {},
   "outputs": [],
   "source": [
    "#importing libraries\n",
    "import pandas as pd\n",
    "import sklearn\n",
    "import matplotlib.pyplot as plt\n",
    "import seaborn as sns\n",
    "from patsy import dmatrices\n",
    "\n",
    "import numpy as np\n",
    "%matplotlib inline"
   ]
  },
  {
   "cell_type": "code",
   "execution_count": 59,
   "id": "94f411f4-5c95-47e4-8ade-cb9ce14e1c07",
   "metadata": {},
   "outputs": [],
   "source": [
    "ibm_data=pd.read_csv('IBM Attrition Data.csv')"
   ]
  },
  {
   "cell_type": "code",
   "execution_count": 60,
   "id": "0edeb34b-18ad-4c95-8b71-702ff09e7921",
   "metadata": {},
   "outputs": [
    {
     "data": {
      "text/html": [
       "<div>\n",
       "<style scoped>\n",
       "    .dataframe tbody tr th:only-of-type {\n",
       "        vertical-align: middle;\n",
       "    }\n",
       "\n",
       "    .dataframe tbody tr th {\n",
       "        vertical-align: top;\n",
       "    }\n",
       "\n",
       "    .dataframe thead th {\n",
       "        text-align: right;\n",
       "    }\n",
       "</style>\n",
       "<table border=\"1\" class=\"dataframe\">\n",
       "  <thead>\n",
       "    <tr style=\"text-align: right;\">\n",
       "      <th></th>\n",
       "      <th>Age</th>\n",
       "      <th>Attrition</th>\n",
       "      <th>Department</th>\n",
       "      <th>DistanceFromHome</th>\n",
       "      <th>Education</th>\n",
       "      <th>EducationField</th>\n",
       "      <th>EnvironmentSatisfaction</th>\n",
       "      <th>JobSatisfaction</th>\n",
       "      <th>MaritalStatus</th>\n",
       "      <th>MonthlyIncome</th>\n",
       "      <th>NumCompaniesWorked</th>\n",
       "      <th>WorkLifeBalance</th>\n",
       "      <th>YearsAtCompany</th>\n",
       "    </tr>\n",
       "  </thead>\n",
       "  <tbody>\n",
       "    <tr>\n",
       "      <th>0</th>\n",
       "      <td>41</td>\n",
       "      <td>Yes</td>\n",
       "      <td>Sales</td>\n",
       "      <td>1</td>\n",
       "      <td>2</td>\n",
       "      <td>Life Sciences</td>\n",
       "      <td>2</td>\n",
       "      <td>4</td>\n",
       "      <td>Single</td>\n",
       "      <td>5993</td>\n",
       "      <td>8</td>\n",
       "      <td>1</td>\n",
       "      <td>6</td>\n",
       "    </tr>\n",
       "    <tr>\n",
       "      <th>1</th>\n",
       "      <td>49</td>\n",
       "      <td>No</td>\n",
       "      <td>Research &amp; Development</td>\n",
       "      <td>8</td>\n",
       "      <td>1</td>\n",
       "      <td>Life Sciences</td>\n",
       "      <td>3</td>\n",
       "      <td>2</td>\n",
       "      <td>Married</td>\n",
       "      <td>5130</td>\n",
       "      <td>1</td>\n",
       "      <td>3</td>\n",
       "      <td>10</td>\n",
       "    </tr>\n",
       "    <tr>\n",
       "      <th>2</th>\n",
       "      <td>37</td>\n",
       "      <td>Yes</td>\n",
       "      <td>Research &amp; Development</td>\n",
       "      <td>2</td>\n",
       "      <td>2</td>\n",
       "      <td>Other</td>\n",
       "      <td>4</td>\n",
       "      <td>3</td>\n",
       "      <td>Single</td>\n",
       "      <td>2090</td>\n",
       "      <td>6</td>\n",
       "      <td>3</td>\n",
       "      <td>0</td>\n",
       "    </tr>\n",
       "    <tr>\n",
       "      <th>3</th>\n",
       "      <td>33</td>\n",
       "      <td>No</td>\n",
       "      <td>Research &amp; Development</td>\n",
       "      <td>3</td>\n",
       "      <td>4</td>\n",
       "      <td>Life Sciences</td>\n",
       "      <td>4</td>\n",
       "      <td>3</td>\n",
       "      <td>Married</td>\n",
       "      <td>2909</td>\n",
       "      <td>1</td>\n",
       "      <td>3</td>\n",
       "      <td>8</td>\n",
       "    </tr>\n",
       "    <tr>\n",
       "      <th>4</th>\n",
       "      <td>27</td>\n",
       "      <td>No</td>\n",
       "      <td>Research &amp; Development</td>\n",
       "      <td>2</td>\n",
       "      <td>1</td>\n",
       "      <td>Medical</td>\n",
       "      <td>1</td>\n",
       "      <td>2</td>\n",
       "      <td>Married</td>\n",
       "      <td>3468</td>\n",
       "      <td>9</td>\n",
       "      <td>3</td>\n",
       "      <td>2</td>\n",
       "    </tr>\n",
       "  </tbody>\n",
       "</table>\n",
       "</div>"
      ],
      "text/plain": [
       "   Age Attrition              Department  DistanceFromHome  Education  \\\n",
       "0   41       Yes                   Sales                 1          2   \n",
       "1   49        No  Research & Development                 8          1   \n",
       "2   37       Yes  Research & Development                 2          2   \n",
       "3   33        No  Research & Development                 3          4   \n",
       "4   27        No  Research & Development                 2          1   \n",
       "\n",
       "  EducationField  EnvironmentSatisfaction  JobSatisfaction MaritalStatus  \\\n",
       "0  Life Sciences                        2                4        Single   \n",
       "1  Life Sciences                        3                2       Married   \n",
       "2          Other                        4                3        Single   \n",
       "3  Life Sciences                        4                3       Married   \n",
       "4        Medical                        1                2       Married   \n",
       "\n",
       "   MonthlyIncome  NumCompaniesWorked  WorkLifeBalance  YearsAtCompany  \n",
       "0           5993                   8                1               6  \n",
       "1           5130                   1                3              10  \n",
       "2           2090                   6                3               0  \n",
       "3           2909                   1                3               8  \n",
       "4           3468                   9                3               2  "
      ]
     },
     "execution_count": 60,
     "metadata": {},
     "output_type": "execute_result"
    }
   ],
   "source": [
    "ibm_data.head()"
   ]
  },
  {
   "cell_type": "code",
   "execution_count": 61,
   "id": "edb340c9-4c5b-4cce-b103-9d113317ab0b",
   "metadata": {},
   "outputs": [
    {
     "data": {
      "text/html": [
       "<div>\n",
       "<style scoped>\n",
       "    .dataframe tbody tr th:only-of-type {\n",
       "        vertical-align: middle;\n",
       "    }\n",
       "\n",
       "    .dataframe tbody tr th {\n",
       "        vertical-align: top;\n",
       "    }\n",
       "\n",
       "    .dataframe thead th {\n",
       "        text-align: right;\n",
       "    }\n",
       "</style>\n",
       "<table border=\"1\" class=\"dataframe\">\n",
       "  <thead>\n",
       "    <tr style=\"text-align: right;\">\n",
       "      <th></th>\n",
       "      <th>Age</th>\n",
       "      <th>DistanceFromHome</th>\n",
       "      <th>Education</th>\n",
       "      <th>EnvironmentSatisfaction</th>\n",
       "      <th>JobSatisfaction</th>\n",
       "      <th>MonthlyIncome</th>\n",
       "      <th>NumCompaniesWorked</th>\n",
       "      <th>WorkLifeBalance</th>\n",
       "      <th>YearsAtCompany</th>\n",
       "    </tr>\n",
       "  </thead>\n",
       "  <tbody>\n",
       "    <tr>\n",
       "      <th>count</th>\n",
       "      <td>1470.000000</td>\n",
       "      <td>1470.000000</td>\n",
       "      <td>1470.000000</td>\n",
       "      <td>1470.000000</td>\n",
       "      <td>1470.000000</td>\n",
       "      <td>1470.000000</td>\n",
       "      <td>1470.000000</td>\n",
       "      <td>1470.000000</td>\n",
       "      <td>1470.000000</td>\n",
       "    </tr>\n",
       "    <tr>\n",
       "      <th>mean</th>\n",
       "      <td>36.923810</td>\n",
       "      <td>9.192517</td>\n",
       "      <td>2.912925</td>\n",
       "      <td>2.721769</td>\n",
       "      <td>2.728571</td>\n",
       "      <td>6502.931293</td>\n",
       "      <td>2.693197</td>\n",
       "      <td>2.761224</td>\n",
       "      <td>7.008163</td>\n",
       "    </tr>\n",
       "    <tr>\n",
       "      <th>std</th>\n",
       "      <td>9.135373</td>\n",
       "      <td>8.106864</td>\n",
       "      <td>1.024165</td>\n",
       "      <td>1.093082</td>\n",
       "      <td>1.102846</td>\n",
       "      <td>4707.956783</td>\n",
       "      <td>2.498009</td>\n",
       "      <td>0.706476</td>\n",
       "      <td>6.126525</td>\n",
       "    </tr>\n",
       "    <tr>\n",
       "      <th>min</th>\n",
       "      <td>18.000000</td>\n",
       "      <td>1.000000</td>\n",
       "      <td>1.000000</td>\n",
       "      <td>1.000000</td>\n",
       "      <td>1.000000</td>\n",
       "      <td>1009.000000</td>\n",
       "      <td>0.000000</td>\n",
       "      <td>1.000000</td>\n",
       "      <td>0.000000</td>\n",
       "    </tr>\n",
       "    <tr>\n",
       "      <th>25%</th>\n",
       "      <td>30.000000</td>\n",
       "      <td>2.000000</td>\n",
       "      <td>2.000000</td>\n",
       "      <td>2.000000</td>\n",
       "      <td>2.000000</td>\n",
       "      <td>2911.000000</td>\n",
       "      <td>1.000000</td>\n",
       "      <td>2.000000</td>\n",
       "      <td>3.000000</td>\n",
       "    </tr>\n",
       "    <tr>\n",
       "      <th>50%</th>\n",
       "      <td>36.000000</td>\n",
       "      <td>7.000000</td>\n",
       "      <td>3.000000</td>\n",
       "      <td>3.000000</td>\n",
       "      <td>3.000000</td>\n",
       "      <td>4919.000000</td>\n",
       "      <td>2.000000</td>\n",
       "      <td>3.000000</td>\n",
       "      <td>5.000000</td>\n",
       "    </tr>\n",
       "    <tr>\n",
       "      <th>75%</th>\n",
       "      <td>43.000000</td>\n",
       "      <td>14.000000</td>\n",
       "      <td>4.000000</td>\n",
       "      <td>4.000000</td>\n",
       "      <td>4.000000</td>\n",
       "      <td>8379.000000</td>\n",
       "      <td>4.000000</td>\n",
       "      <td>3.000000</td>\n",
       "      <td>9.000000</td>\n",
       "    </tr>\n",
       "    <tr>\n",
       "      <th>max</th>\n",
       "      <td>60.000000</td>\n",
       "      <td>29.000000</td>\n",
       "      <td>5.000000</td>\n",
       "      <td>4.000000</td>\n",
       "      <td>4.000000</td>\n",
       "      <td>19999.000000</td>\n",
       "      <td>9.000000</td>\n",
       "      <td>4.000000</td>\n",
       "      <td>40.000000</td>\n",
       "    </tr>\n",
       "  </tbody>\n",
       "</table>\n",
       "</div>"
      ],
      "text/plain": [
       "               Age  DistanceFromHome    Education  EnvironmentSatisfaction  \\\n",
       "count  1470.000000       1470.000000  1470.000000              1470.000000   \n",
       "mean     36.923810          9.192517     2.912925                 2.721769   \n",
       "std       9.135373          8.106864     1.024165                 1.093082   \n",
       "min      18.000000          1.000000     1.000000                 1.000000   \n",
       "25%      30.000000          2.000000     2.000000                 2.000000   \n",
       "50%      36.000000          7.000000     3.000000                 3.000000   \n",
       "75%      43.000000         14.000000     4.000000                 4.000000   \n",
       "max      60.000000         29.000000     5.000000                 4.000000   \n",
       "\n",
       "       JobSatisfaction  MonthlyIncome  NumCompaniesWorked  WorkLifeBalance  \\\n",
       "count      1470.000000    1470.000000         1470.000000      1470.000000   \n",
       "mean          2.728571    6502.931293            2.693197         2.761224   \n",
       "std           1.102846    4707.956783            2.498009         0.706476   \n",
       "min           1.000000    1009.000000            0.000000         1.000000   \n",
       "25%           2.000000    2911.000000            1.000000         2.000000   \n",
       "50%           3.000000    4919.000000            2.000000         3.000000   \n",
       "75%           4.000000    8379.000000            4.000000         3.000000   \n",
       "max           4.000000   19999.000000            9.000000         4.000000   \n",
       "\n",
       "       YearsAtCompany  \n",
       "count     1470.000000  \n",
       "mean         7.008163  \n",
       "std          6.126525  \n",
       "min          0.000000  \n",
       "25%          3.000000  \n",
       "50%          5.000000  \n",
       "75%          9.000000  \n",
       "max         40.000000  "
      ]
     },
     "execution_count": 61,
     "metadata": {},
     "output_type": "execute_result"
    }
   ],
   "source": [
    "ibm_data.describe()"
   ]
  },
  {
   "cell_type": "code",
   "execution_count": 62,
   "id": "fdaf0743-5ba9-4672-973b-525ab325b568",
   "metadata": {},
   "outputs": [
    {
     "data": {
      "text/plain": [
       "Index(['Age', 'Attrition', 'Department', 'DistanceFromHome', 'Education',\n",
       "       'EducationField', 'EnvironmentSatisfaction', 'JobSatisfaction',\n",
       "       'MaritalStatus', 'MonthlyIncome', 'NumCompaniesWorked',\n",
       "       'WorkLifeBalance', 'YearsAtCompany'],\n",
       "      dtype='object')"
      ]
     },
     "execution_count": 62,
     "metadata": {},
     "output_type": "execute_result"
    }
   ],
   "source": [
    "name=ibm_data.columns\n",
    "name"
   ]
  },
  {
   "cell_type": "code",
   "execution_count": 63,
   "id": "b8944e9b-55fa-4175-9a56-d80af589564c",
   "metadata": {},
   "outputs": [
    {
     "data": {
      "image/png": "[encoded data removed]",
      "text/plain": [
       "<Figure size 720x720 with 1 Axes>"
      ]
     },
     "metadata": {
      "needs_background": "light"
     },
     "output_type": "display_data"
    }
   ],
   "source": [
    "#histogram of age\n",
    "plt.figure(figsize=(10,10))\n",
    "ibm_data['Age'].hist(bins=70)\n",
    "plt.xlabel('Age')\n",
    "plt.ylabel('# of employees')\n",
    "plt.title(' Age distribution among employees')\n",
    "plt.show()"
   ]
  },
  {
   "cell_type": "code",
   "execution_count": 64,
   "id": "a506fa65-77da-4338-b486-61e1dce86b67",
   "metadata": {},
   "outputs": [
    {
     "data": {
      "image/png": "[encoded data removed]",
      "text/plain": [
       "<Figure size 720x576 with 1 Axes>"
      ]
     },
     "metadata": {
      "needs_background": "light"
     },
     "output_type": "display_data"
    }
   ],
   "source": [
    "#attrition by age\n",
    "plt.figure(figsize=(10,8))\n",
    "plt.scatter(ibm_data.Attrition, ibm_data.Age, alpha=1)\n",
    "plt.ylabel('Age')\n",
    "plt.title('Attrition by Age')\n",
    "plt.grid( b=True, which='major', axis='y')\n",
    "plt.show()"
   ]
  },
  {
   "cell_type": "code",
   "execution_count": 65,
   "id": "0a220fb1-e1a6-425d-9c28-4dcfc3bba5ab",
   "metadata": {},
   "outputs": [
    {
     "data": {
      "image/png": "[encoded data removed]",
      "text/plain": [
       "<Figure size 720x720 with 1 Axes>"
      ]
     },
     "metadata": {
      "needs_background": "light"
     },
     "output_type": "display_data"
    }
   ],
   "source": [
    "#explore data for left employees\n",
    "plt.figure(figsize=(10,10))\n",
    "ibm_data.Attrition.value_counts().plot(kind='barh', color='blue', alpha=1)\n",
    "plt.title('Attrition of left employees')\n",
    "plt.show()"
   ]
  },
  {
   "cell_type": "code",
   "execution_count": 66,
   "id": "9a0849cf-ded1-4626-951c-b730d370ec9c",
   "metadata": {},
   "outputs": [
    {
     "data": {
      "image/png": "[encoded data removed]",
      "text/plain": [
       "<Figure size 720x576 with 1 Axes>"
      ]
     },
     "metadata": {
      "needs_background": "light"
     },
     "output_type": "display_data"
    }
   ],
   "source": [
    "#explore data for the educational field distribution\n",
    "plt.figure(figsize=(10,8))\n",
    "ibm_data.EducationField.value_counts().plot(kind='barh', color='red', alpha=1)\n",
    "plt.title('Educational field distribution')\n",
    "plt.show()"
   ]
  },
  {
   "cell_type": "markdown",
   "id": "0ff6dc3c-ded9-4b01-8a28-6c23aaed9920",
   "metadata": {},
   "source": [
    "## as we can see most of employees are from Life sciences background"
   ]
  },
  {
   "cell_type": "code",
   "execution_count": 67,
   "id": "2c24ee5f-0ef6-48ef-ae70-63c35357ec64",
   "metadata": {},
   "outputs": [
    {
     "data": {
      "image/png": "[encoded data removed]",
      "text/plain": [
       "<Figure size 720x576 with 1 Axes>"
      ]
     },
     "metadata": {
      "needs_background": "light"
     },
     "output_type": "display_data"
    }
   ],
   "source": [
    "#explore data for martial status\n",
    "plt.figure(figsize=(10,8))\n",
    "ibm_data.MaritalStatus.value_counts().plot(kind='bar', alpha=1)\n",
    "plt.title('Martial status of employees')\n",
    "plt.show()"
   ]
  },
  {
   "cell_type": "code",
   "execution_count": 68,
   "id": "c1f7e0c5-05bc-4995-acb8-db8f68fb5a9a",
   "metadata": {},
   "outputs": [
    {
     "name": "stdout",
     "output_type": "stream",
     "text": [
      "<class 'pandas.core.frame.DataFrame'>\n",
      "RangeIndex: 1470 entries, 0 to 1469\n",
      "Data columns (total 13 columns):\n",
      " #   Column                   Non-Null Count  Dtype \n",
      "---  ------                   --------------  ----- \n",
      " 0   Age                      1470 non-null   int64 \n",
      " 1   Attrition                1470 non-null   object\n",
      " 2   Department               1470 non-null   object\n",
      " 3   DistanceFromHome         1470 non-null   int64 \n",
      " 4   Education                1470 non-null   int64 \n",
      " 5   EducationField           1470 non-null   object\n",
      " 6   EnvironmentSatisfaction  1470 non-null   int64 \n",
      " 7   JobSatisfaction          1470 non-null   int64 \n",
      " 8   MaritalStatus            1470 non-null   object\n",
      " 9   MonthlyIncome            1470 non-null   int64 \n",
      " 10  NumCompaniesWorked       1470 non-null   int64 \n",
      " 11  WorkLifeBalance          1470 non-null   int64 \n",
      " 12  YearsAtCompany           1470 non-null   int64 \n",
      "dtypes: int64(9), object(4)\n",
      "memory usage: 149.4+ KB\n"
     ]
    }
   ],
   "source": [
    "ibm_data.info()"
   ]
  },
  {
   "cell_type": "code",
   "execution_count": 69,
   "id": "723e48bd-8660-48c7-9bfa-40ffb821bf22",
   "metadata": {},
   "outputs": [
    {
     "data": {
      "text/plain": [
       "No     1233\n",
       "Yes     237\n",
       "Name: Attrition, dtype: int64"
      ]
     },
     "execution_count": 69,
     "metadata": {},
     "output_type": "execute_result"
    }
   ],
   "source": [
    "ibm_data['Attrition'].value_counts()"
   ]
  },
  {
   "cell_type": "code",
   "execution_count": 70,
   "id": "d046317b-b1db-4d5b-99c4-3c8b07b57462",
   "metadata": {},
   "outputs": [],
   "source": [
    "ibm_data['Attrition'].replace('Yes', 1, inplace=True)\n",
    "ibm_data['Attrition'].replace('No', 0, inplace=True)"
   ]
  },
  {
   "cell_type": "code",
   "execution_count": 71,
   "id": "b40d412d-b39e-4772-b469-30e14614da8d",
   "metadata": {},
   "outputs": [
    {
     "data": {
      "text/html": [
       "<div>\n",
       "<style scoped>\n",
       "    .dataframe tbody tr th:only-of-type {\n",
       "        vertical-align: middle;\n",
       "    }\n",
       "\n",
       "    .dataframe tbody tr th {\n",
       "        vertical-align: top;\n",
       "    }\n",
       "\n",
       "    .dataframe thead th {\n",
       "        text-align: right;\n",
       "    }\n",
       "</style>\n",
       "<table border=\"1\" class=\"dataframe\">\n",
       "  <thead>\n",
       "    <tr style=\"text-align: right;\">\n",
       "      <th></th>\n",
       "      <th>Age</th>\n",
       "      <th>Attrition</th>\n",
       "      <th>Department</th>\n",
       "      <th>DistanceFromHome</th>\n",
       "      <th>Education</th>\n",
       "      <th>EducationField</th>\n",
       "      <th>EnvironmentSatisfaction</th>\n",
       "      <th>JobSatisfaction</th>\n",
       "      <th>MaritalStatus</th>\n",
       "      <th>MonthlyIncome</th>\n",
       "      <th>NumCompaniesWorked</th>\n",
       "      <th>WorkLifeBalance</th>\n",
       "      <th>YearsAtCompany</th>\n",
       "    </tr>\n",
       "  </thead>\n",
       "  <tbody>\n",
       "    <tr>\n",
       "      <th>0</th>\n",
       "      <td>41</td>\n",
       "      <td>1</td>\n",
       "      <td>Sales</td>\n",
       "      <td>1</td>\n",
       "      <td>2</td>\n",
       "      <td>Life Sciences</td>\n",
       "      <td>2</td>\n",
       "      <td>4</td>\n",
       "      <td>Single</td>\n",
       "      <td>5993</td>\n",
       "      <td>8</td>\n",
       "      <td>1</td>\n",
       "      <td>6</td>\n",
       "    </tr>\n",
       "    <tr>\n",
       "      <th>1</th>\n",
       "      <td>49</td>\n",
       "      <td>0</td>\n",
       "      <td>Research &amp; Development</td>\n",
       "      <td>8</td>\n",
       "      <td>1</td>\n",
       "      <td>Life Sciences</td>\n",
       "      <td>3</td>\n",
       "      <td>2</td>\n",
       "      <td>Married</td>\n",
       "      <td>5130</td>\n",
       "      <td>1</td>\n",
       "      <td>3</td>\n",
       "      <td>10</td>\n",
       "    </tr>\n",
       "    <tr>\n",
       "      <th>2</th>\n",
       "      <td>37</td>\n",
       "      <td>1</td>\n",
       "      <td>Research &amp; Development</td>\n",
       "      <td>2</td>\n",
       "      <td>2</td>\n",
       "      <td>Other</td>\n",
       "      <td>4</td>\n",
       "      <td>3</td>\n",
       "      <td>Single</td>\n",
       "      <td>2090</td>\n",
       "      <td>6</td>\n",
       "      <td>3</td>\n",
       "      <td>0</td>\n",
       "    </tr>\n",
       "    <tr>\n",
       "      <th>3</th>\n",
       "      <td>33</td>\n",
       "      <td>0</td>\n",
       "      <td>Research &amp; Development</td>\n",
       "      <td>3</td>\n",
       "      <td>4</td>\n",
       "      <td>Life Sciences</td>\n",
       "      <td>4</td>\n",
       "      <td>3</td>\n",
       "      <td>Married</td>\n",
       "      <td>2909</td>\n",
       "      <td>1</td>\n",
       "      <td>3</td>\n",
       "      <td>8</td>\n",
       "    </tr>\n",
       "    <tr>\n",
       "      <th>4</th>\n",
       "      <td>27</td>\n",
       "      <td>0</td>\n",
       "      <td>Research &amp; Development</td>\n",
       "      <td>2</td>\n",
       "      <td>1</td>\n",
       "      <td>Medical</td>\n",
       "      <td>1</td>\n",
       "      <td>2</td>\n",
       "      <td>Married</td>\n",
       "      <td>3468</td>\n",
       "      <td>9</td>\n",
       "      <td>3</td>\n",
       "      <td>2</td>\n",
       "    </tr>\n",
       "    <tr>\n",
       "      <th>...</th>\n",
       "      <td>...</td>\n",
       "      <td>...</td>\n",
       "      <td>...</td>\n",
       "      <td>...</td>\n",
       "      <td>...</td>\n",
       "      <td>...</td>\n",
       "      <td>...</td>\n",
       "      <td>...</td>\n",
       "      <td>...</td>\n",
       "      <td>...</td>\n",
       "      <td>...</td>\n",
       "      <td>...</td>\n",
       "      <td>...</td>\n",
       "    </tr>\n",
       "    <tr>\n",
       "      <th>1465</th>\n",
       "      <td>36</td>\n",
       "      <td>0</td>\n",
       "      <td>Research &amp; Development</td>\n",
       "      <td>23</td>\n",
       "      <td>2</td>\n",
       "      <td>Medical</td>\n",
       "      <td>3</td>\n",
       "      <td>4</td>\n",
       "      <td>Married</td>\n",
       "      <td>2571</td>\n",
       "      <td>4</td>\n",
       "      <td>3</td>\n",
       "      <td>5</td>\n",
       "    </tr>\n",
       "    <tr>\n",
       "      <th>1466</th>\n",
       "      <td>39</td>\n",
       "      <td>0</td>\n",
       "      <td>Research &amp; Development</td>\n",
       "      <td>6</td>\n",
       "      <td>1</td>\n",
       "      <td>Medical</td>\n",
       "      <td>4</td>\n",
       "      <td>1</td>\n",
       "      <td>Married</td>\n",
       "      <td>9991</td>\n",
       "      <td>4</td>\n",
       "      <td>3</td>\n",
       "      <td>7</td>\n",
       "    </tr>\n",
       "    <tr>\n",
       "      <th>1467</th>\n",
       "      <td>27</td>\n",
       "      <td>0</td>\n",
       "      <td>Research &amp; Development</td>\n",
       "      <td>4</td>\n",
       "      <td>3</td>\n",
       "      <td>Life Sciences</td>\n",
       "      <td>2</td>\n",
       "      <td>2</td>\n",
       "      <td>Married</td>\n",
       "      <td>6142</td>\n",
       "      <td>1</td>\n",
       "      <td>3</td>\n",
       "      <td>6</td>\n",
       "    </tr>\n",
       "    <tr>\n",
       "      <th>1468</th>\n",
       "      <td>49</td>\n",
       "      <td>0</td>\n",
       "      <td>Sales</td>\n",
       "      <td>2</td>\n",
       "      <td>3</td>\n",
       "      <td>Medical</td>\n",
       "      <td>4</td>\n",
       "      <td>2</td>\n",
       "      <td>Married</td>\n",
       "      <td>5390</td>\n",
       "      <td>2</td>\n",
       "      <td>2</td>\n",
       "      <td>9</td>\n",
       "    </tr>\n",
       "    <tr>\n",
       "      <th>1469</th>\n",
       "      <td>34</td>\n",
       "      <td>0</td>\n",
       "      <td>Research &amp; Development</td>\n",
       "      <td>8</td>\n",
       "      <td>3</td>\n",
       "      <td>Medical</td>\n",
       "      <td>2</td>\n",
       "      <td>3</td>\n",
       "      <td>Married</td>\n",
       "      <td>4404</td>\n",
       "      <td>2</td>\n",
       "      <td>4</td>\n",
       "      <td>4</td>\n",
       "    </tr>\n",
       "  </tbody>\n",
       "</table>\n",
       "<p>1470 rows × 13 columns</p>\n",
       "</div>"
      ],
      "text/plain": [
       "      Age  Attrition              Department  DistanceFromHome  Education  \\\n",
       "0      41          1                   Sales                 1          2   \n",
       "1      49          0  Research & Development                 8          1   \n",
       "2      37          1  Research & Development                 2          2   \n",
       "3      33          0  Research & Development                 3          4   \n",
       "4      27          0  Research & Development                 2          1   \n",
       "...   ...        ...                     ...               ...        ...   \n",
       "1465   36          0  Research & Development                23          2   \n",
       "1466   39          0  Research & Development                 6          1   \n",
       "1467   27          0  Research & Development                 4          3   \n",
       "1468   49          0                   Sales                 2          3   \n",
       "1469   34          0  Research & Development                 8          3   \n",
       "\n",
       "     EducationField  EnvironmentSatisfaction  JobSatisfaction MaritalStatus  \\\n",
       "0     Life Sciences                        2                4        Single   \n",
       "1     Life Sciences                        3                2       Married   \n",
       "2             Other                        4                3        Single   \n",
       "3     Life Sciences                        4                3       Married   \n",
       "4           Medical                        1                2       Married   \n",
       "...             ...                      ...              ...           ...   \n",
       "1465        Medical                        3                4       Married   \n",
       "1466        Medical                        4                1       Married   \n",
       "1467  Life Sciences                        2                2       Married   \n",
       "1468        Medical                        4                2       Married   \n",
       "1469        Medical                        2                3       Married   \n",
       "\n",
       "      MonthlyIncome  NumCompaniesWorked  WorkLifeBalance  YearsAtCompany  \n",
       "0              5993                   8                1               6  \n",
       "1              5130                   1                3              10  \n",
       "2              2090                   6                3               0  \n",
       "3              2909                   1                3               8  \n",
       "4              3468                   9                3               2  \n",
       "...             ...                 ...              ...             ...  \n",
       "1465           2571                   4                3               5  \n",
       "1466           9991                   4                3               7  \n",
       "1467           6142                   1                3               6  \n",
       "1468           5390                   2                2               9  \n",
       "1469           4404                   2                4               4  \n",
       "\n",
       "[1470 rows x 13 columns]"
      ]
     },
     "execution_count": 71,
     "metadata": {},
     "output_type": "execute_result"
    }
   ],
   "source": [
    "ibm_data"
   ]
  },
  {
   "cell_type": "code",
   "execution_count": 72,
   "id": "6e75c851-657b-45c0-ac81-4992b99827e0",
   "metadata": {},
   "outputs": [
    {
     "data": {
      "text/plain": [
       "0       1\n",
       "1       0\n",
       "2       1\n",
       "3       0\n",
       "4       0\n",
       "       ..\n",
       "1465    0\n",
       "1466    0\n",
       "1467    0\n",
       "1468    0\n",
       "1469    0\n",
       "Name: Attrition, Length: 1470, dtype: int64"
      ]
     },
     "execution_count": 72,
     "metadata": {},
     "output_type": "execute_result"
    }
   ],
   "source": [
    "#slicing target\n",
    "target=ibm_data['Attrition']\n",
    "feature=ibm_data.drop(['Attrition'], axis=1)\n",
    "target"
   ]
  },
  {
   "cell_type": "code",
   "execution_count": 73,
   "id": "4f8798a2-6eb2-485b-922e-738183de0a33",
   "metadata": {},
   "outputs": [
    {
     "data": {
      "text/plain": [
       "dtype('O')"
      ]
     },
     "execution_count": 73,
     "metadata": {},
     "output_type": "execute_result"
    }
   ],
   "source": [
    "ibm_data['EducationField'].dtype"
   ]
  },
  {
   "cell_type": "code",
   "execution_count": 74,
   "id": "8ac4bbd6-6600-4728-8202-cb7103a96e8e",
   "metadata": {},
   "outputs": [
    {
     "data": {
      "text/plain": [
       "CategoricalDtype(categories=['Human Resources', 'Life Sciences', 'Marketing', 'Medical',\n",
       "                  'Other', 'Technical Degree'],\n",
       ", ordered=False)"
      ]
     },
     "execution_count": 74,
     "metadata": {},
     "output_type": "execute_result"
    }
   ],
   "source": [
    "ibm_data['EducationField']=ibm_data['EducationField'].astype('category')\n",
    "ibm_data['EducationField'].dtype"
   ]
  },
  {
   "cell_type": "code",
   "execution_count": 75,
   "id": "055591ee-ebd7-445f-9b06-7d593c3519b4",
   "metadata": {},
   "outputs": [
    {
     "data": {
      "text/html": [
       "<div>\n",
       "<style scoped>\n",
       "    .dataframe tbody tr th:only-of-type {\n",
       "        vertical-align: middle;\n",
       "    }\n",
       "\n",
       "    .dataframe tbody tr th {\n",
       "        vertical-align: top;\n",
       "    }\n",
       "\n",
       "    .dataframe thead th {\n",
       "        text-align: right;\n",
       "    }\n",
       "</style>\n",
       "<table border=\"1\" class=\"dataframe\">\n",
       "  <thead>\n",
       "    <tr style=\"text-align: right;\">\n",
       "      <th></th>\n",
       "      <th>Age</th>\n",
       "      <th>Attrition</th>\n",
       "      <th>Department</th>\n",
       "      <th>DistanceFromHome</th>\n",
       "      <th>Education</th>\n",
       "      <th>EducationField</th>\n",
       "      <th>EnvironmentSatisfaction</th>\n",
       "      <th>JobSatisfaction</th>\n",
       "      <th>MaritalStatus</th>\n",
       "      <th>MonthlyIncome</th>\n",
       "      <th>NumCompaniesWorked</th>\n",
       "      <th>WorkLifeBalance</th>\n",
       "      <th>YearsAtCompany</th>\n",
       "    </tr>\n",
       "  </thead>\n",
       "  <tbody>\n",
       "    <tr>\n",
       "      <th>0</th>\n",
       "      <td>41</td>\n",
       "      <td>1</td>\n",
       "      <td>Sales</td>\n",
       "      <td>1</td>\n",
       "      <td>2</td>\n",
       "      <td>1</td>\n",
       "      <td>2</td>\n",
       "      <td>4</td>\n",
       "      <td>Single</td>\n",
       "      <td>5993</td>\n",
       "      <td>8</td>\n",
       "      <td>1</td>\n",
       "      <td>6</td>\n",
       "    </tr>\n",
       "    <tr>\n",
       "      <th>1</th>\n",
       "      <td>49</td>\n",
       "      <td>0</td>\n",
       "      <td>Research &amp; Development</td>\n",
       "      <td>8</td>\n",
       "      <td>1</td>\n",
       "      <td>1</td>\n",
       "      <td>3</td>\n",
       "      <td>2</td>\n",
       "      <td>Married</td>\n",
       "      <td>5130</td>\n",
       "      <td>1</td>\n",
       "      <td>3</td>\n",
       "      <td>10</td>\n",
       "    </tr>\n",
       "    <tr>\n",
       "      <th>2</th>\n",
       "      <td>37</td>\n",
       "      <td>1</td>\n",
       "      <td>Research &amp; Development</td>\n",
       "      <td>2</td>\n",
       "      <td>2</td>\n",
       "      <td>4</td>\n",
       "      <td>4</td>\n",
       "      <td>3</td>\n",
       "      <td>Single</td>\n",
       "      <td>2090</td>\n",
       "      <td>6</td>\n",
       "      <td>3</td>\n",
       "      <td>0</td>\n",
       "    </tr>\n",
       "    <tr>\n",
       "      <th>3</th>\n",
       "      <td>33</td>\n",
       "      <td>0</td>\n",
       "      <td>Research &amp; Development</td>\n",
       "      <td>3</td>\n",
       "      <td>4</td>\n",
       "      <td>1</td>\n",
       "      <td>4</td>\n",
       "      <td>3</td>\n",
       "      <td>Married</td>\n",
       "      <td>2909</td>\n",
       "      <td>1</td>\n",
       "      <td>3</td>\n",
       "      <td>8</td>\n",
       "    </tr>\n",
       "    <tr>\n",
       "      <th>4</th>\n",
       "      <td>27</td>\n",
       "      <td>0</td>\n",
       "      <td>Research &amp; Development</td>\n",
       "      <td>2</td>\n",
       "      <td>1</td>\n",
       "      <td>3</td>\n",
       "      <td>1</td>\n",
       "      <td>2</td>\n",
       "      <td>Married</td>\n",
       "      <td>3468</td>\n",
       "      <td>9</td>\n",
       "      <td>3</td>\n",
       "      <td>2</td>\n",
       "    </tr>\n",
       "  </tbody>\n",
       "</table>\n",
       "</div>"
      ],
      "text/plain": [
       "   Age  Attrition              Department  DistanceFromHome  Education  \\\n",
       "0   41          1                   Sales                 1          2   \n",
       "1   49          0  Research & Development                 8          1   \n",
       "2   37          1  Research & Development                 2          2   \n",
       "3   33          0  Research & Development                 3          4   \n",
       "4   27          0  Research & Development                 2          1   \n",
       "\n",
       "   EducationField  EnvironmentSatisfaction  JobSatisfaction MaritalStatus  \\\n",
       "0               1                        2                4        Single   \n",
       "1               1                        3                2       Married   \n",
       "2               4                        4                3        Single   \n",
       "3               1                        4                3       Married   \n",
       "4               3                        1                2       Married   \n",
       "\n",
       "   MonthlyIncome  NumCompaniesWorked  WorkLifeBalance  YearsAtCompany  \n",
       "0           5993                   8                1               6  \n",
       "1           5130                   1                3              10  \n",
       "2           2090                   6                3               0  \n",
       "3           2909                   1                3               8  \n",
       "4           3468                   9                3               2  "
      ]
     },
     "execution_count": 75,
     "metadata": {},
     "output_type": "execute_result"
    }
   ],
   "source": [
    "ibm_data['EducationField']=ibm_data['EducationField'].cat.codes\n",
    "ibm_data.head()"
   ]
  },
  {
   "cell_type": "code",
   "execution_count": 76,
   "id": "80c9e1e1-b4f8-4d44-99cb-fd9901d4a7f9",
   "metadata": {},
   "outputs": [
    {
     "data": {
      "text/plain": [
       "1    606\n",
       "3    464\n",
       "2    159\n",
       "5    132\n",
       "4     82\n",
       "0     27\n",
       "Name: EducationField, dtype: int64"
      ]
     },
     "execution_count": 76,
     "metadata": {},
     "output_type": "execute_result"
    }
   ],
   "source": [
    "ibm_data['EducationField'].value_counts()"
   ]
  },
  {
   "cell_type": "code",
   "execution_count": 77,
   "id": "e76912a9-5ce7-42b2-8e86-b71d06237937",
   "metadata": {},
   "outputs": [
    {
     "data": {
      "text/plain": [
       "Research & Development    961\n",
       "Sales                     446\n",
       "Human Resources            63\n",
       "Name: Department, dtype: int64"
      ]
     },
     "execution_count": 77,
     "metadata": {},
     "output_type": "execute_result"
    }
   ],
   "source": [
    "ibm_data['Department'].value_counts()"
   ]
  },
  {
   "cell_type": "code",
   "execution_count": 78,
   "id": "a43ac7f3-a366-4c76-88f0-5fa8423aa25f",
   "metadata": {},
   "outputs": [
    {
     "data": {
      "text/plain": [
       "1    961\n",
       "2    446\n",
       "0     63\n",
       "Name: Department, dtype: int64"
      ]
     },
     "execution_count": 78,
     "metadata": {},
     "output_type": "execute_result"
    }
   ],
   "source": [
    "ibm_data['Department']=ibm_data['Department'].astype('category')\n",
    "ibm_data['Department']=ibm_data['Department'].cat.codes\n",
    "ibm_data['Department'].value_counts()"
   ]
  },
  {
   "cell_type": "code",
   "execution_count": 79,
   "id": "fad01da6-9afb-4bb1-b221-2ab46ccea2db",
   "metadata": {},
   "outputs": [
    {
     "data": {
      "text/plain": [
       "1    673\n",
       "2    470\n",
       "0    327\n",
       "Name: MaritalStatus, dtype: int64"
      ]
     },
     "execution_count": 79,
     "metadata": {},
     "output_type": "execute_result"
    }
   ],
   "source": [
    "ibm_data['MaritalStatus']=ibm_data['MaritalStatus'].astype('category')\n",
    "ibm_data['MaritalStatus']=ibm_data['MaritalStatus'].cat.codes\n",
    "ibm_data['MaritalStatus'].value_counts()"
   ]
  },
  {
   "cell_type": "code",
   "execution_count": 80,
   "id": "f288e4f6-016d-4bfe-a90a-b73eab7be8ce",
   "metadata": {},
   "outputs": [
    {
     "data": {
      "text/plain": [
       "Age                        int64\n",
       "Attrition                  int64\n",
       "Department                  int8\n",
       "DistanceFromHome           int64\n",
       "Education                  int64\n",
       "EducationField              int8\n",
       "EnvironmentSatisfaction    int64\n",
       "JobSatisfaction            int64\n",
       "MaritalStatus               int8\n",
       "MonthlyIncome              int64\n",
       "NumCompaniesWorked         int64\n",
       "WorkLifeBalance            int64\n",
       "YearsAtCompany             int64\n",
       "dtype: object"
      ]
     },
     "execution_count": 80,
     "metadata": {},
     "output_type": "execute_result"
    }
   ],
   "source": [
    "ibm_data.dtypes"
   ]
  },
  {
   "cell_type": "code",
   "execution_count": 81,
   "id": "c5aa339e-afd6-411a-837e-7f1d510f9fa3",
   "metadata": {},
   "outputs": [],
   "source": [
    "x=ibm_data\n",
    "y=ibm_data['Attrition']"
   ]
  },
  {
   "cell_type": "code",
   "execution_count": 82,
   "id": "a154bcda-4c48-4e1f-8933-2c8cd4466805",
   "metadata": {},
   "outputs": [
    {
     "data": {
      "text/plain": [
       "Index(['Age', 'Attrition', 'Department', 'DistanceFromHome', 'Education',\n",
       "       'EducationField', 'EnvironmentSatisfaction', 'JobSatisfaction',\n",
       "       'MaritalStatus', 'MonthlyIncome', 'NumCompaniesWorked',\n",
       "       'WorkLifeBalance', 'YearsAtCompany'],\n",
       "      dtype='object')"
      ]
     },
     "execution_count": 82,
     "metadata": {},
     "output_type": "execute_result"
    }
   ],
   "source": [
    "x.columns"
   ]
  },
  {
   "cell_type": "code",
   "execution_count": 83,
   "id": "4946537c-49d7-4b1a-af90-fc933800c7ba",
   "metadata": {},
   "outputs": [
    {
     "data": {
      "text/plain": [
       "Index(['Intercept', 'Age', 'Department', 'Department:DistanceFromHome',\n",
       "       'Education', 'EducationField', 'YearsAtCompany'],\n",
       "      dtype='object')"
      ]
     },
     "execution_count": 83,
     "metadata": {},
     "output_type": "execute_result"
    }
   ],
   "source": [
    "y,x=dmatrices('Attrition~ Age + Department/ DistanceFromHome + Education + EducationField + YearsAtCompany', ibm_data, return_type=\"dataframe\")\n",
    "x.columns"
   ]
  },
  {
   "cell_type": "code",
   "execution_count": 84,
   "id": "7e407f20-297e-430d-b17e-1e0a89ad5f79",
   "metadata": {},
   "outputs": [],
   "source": [
    "y=np.ravel(y)"
   ]
  },
  {
   "cell_type": "code",
   "execution_count": 85,
   "id": "eb531edd-1a12-4b67-bda0-36ce65f6f9f9",
   "metadata": {},
   "outputs": [
    {
     "data": {
      "text/plain": [
       "LogisticRegression()"
      ]
     },
     "execution_count": 85,
     "metadata": {},
     "output_type": "execute_result"
    }
   ],
   "source": [
    "from sklearn.linear_model import LogisticRegression\n",
    "logreg= LogisticRegression()\n",
    "logreg.fit(x,y)"
   ]
  },
  {
   "cell_type": "code",
   "execution_count": 86,
   "id": "0f38c9fd-9d40-4d99-ada2-5633e6f62616",
   "metadata": {},
   "outputs": [
    {
     "data": {
      "text/plain": [
       "0.8387755102040816"
      ]
     },
     "execution_count": 86,
     "metadata": {},
     "output_type": "execute_result"
    }
   ],
   "source": [
    "#checking score\n",
    "logreg.score(x,y)"
   ]
  },
  {
   "cell_type": "code",
   "execution_count": 94,
   "id": "b95cafa2-783c-434a-a92b-d7ff5c6ee1f6",
   "metadata": {},
   "outputs": [
    {
     "data": {
      "text/plain": [
       "0.16122448979591836"
      ]
     },
     "execution_count": 94,
     "metadata": {},
     "output_type": "execute_result"
    }
   ],
   "source": [
    "y.mean()"
   ]
  },
  {
   "cell_type": "code",
   "execution_count": 95,
   "id": "bd23b913-0bc5-4934-8b61-1f3ec5283b93",
   "metadata": {},
   "outputs": [
    {
     "data": {
      "text/plain": [
       "LogisticRegression()"
      ]
     },
     "execution_count": 95,
     "metadata": {},
     "output_type": "execute_result"
    }
   ],
   "source": [
    "#creating model with trian and test\n",
    "X_train,X_test, y_train,y_test= sklearn.model_selection.train_test_split(x,y , test_size=0.3, random_state=0)\n",
    "model2=LogisticRegression()\n",
    "model2.fit(X_train,y_train)"
   ]
  },
  {
   "cell_type": "code",
   "execution_count": 96,
   "id": "d1050851-b2c1-4cbd-a535-ab9b32d9fa28",
   "metadata": {},
   "outputs": [
    {
     "data": {
      "text/plain": [
       "array([0., 0., 0., 0., 0., 0., 0., 0., 0., 0., 0., 0., 0., 0., 0., 0., 0.,\n",
       "       0., 0., 0., 0., 0., 0., 0., 0., 0., 0., 0., 0., 0., 0., 0., 0., 0.,\n",
       "       0., 0., 0., 0., 0., 0., 0., 0., 0., 0., 0., 0., 0., 0., 0., 0., 0.,\n",
       "       0., 0., 0., 0., 0., 0., 0., 0., 0., 0., 0., 0., 0., 0., 0., 0., 0.,\n",
       "       0., 0., 0., 0., 0., 0., 0., 0., 0., 0., 0., 0., 0., 0., 0., 0., 0.,\n",
       "       0., 0., 0., 0., 0., 0., 0., 0., 0., 0., 0., 0., 0., 0., 0., 0., 0.,\n",
       "       0., 0., 0., 0., 0., 0., 0., 0., 0., 0., 0., 0., 0., 0., 0., 0., 0.,\n",
       "       0., 0., 0., 0., 0., 0., 0., 0., 0., 0., 0., 0., 0., 0., 0., 0., 0.,\n",
       "       0., 0., 0., 0., 0., 0., 0., 0., 0., 0., 0., 0., 0., 0., 0., 0., 0.,\n",
       "       0., 0., 0., 0., 0., 0., 0., 0., 0., 0., 0., 0., 0., 0., 0., 0., 0.,\n",
       "       0., 0., 0., 0., 0., 0., 0., 0., 0., 0., 0., 0., 0., 0., 0., 0., 0.,\n",
       "       0., 0., 0., 0., 0., 0., 0., 0., 0., 0., 0., 0., 0., 0., 0., 0., 0.,\n",
       "       0., 0., 0., 0., 0., 0., 0., 0., 0., 0., 0., 0., 0., 0., 0., 0., 0.,\n",
       "       0., 0., 0., 0., 0., 0., 0., 0., 0., 0., 0., 0., 0., 0., 0., 0., 0.,\n",
       "       0., 0., 0., 0., 0., 0., 0., 0., 0., 0., 0., 0., 0., 0., 0., 0., 0.,\n",
       "       0., 0., 0., 0., 0., 0., 0., 0., 0., 0., 0., 0., 0., 0., 0., 0., 0.,\n",
       "       0., 0., 0., 0., 0., 0., 0., 0., 0., 0., 0., 0., 0., 0., 0., 0., 0.,\n",
       "       0., 0., 0., 0., 0., 0., 0., 0., 0., 0., 0., 0., 0., 0., 0., 0., 0.,\n",
       "       0., 0., 0., 0., 0., 0., 0., 0., 0., 0., 0., 0., 0., 0., 0., 0., 0.,\n",
       "       0., 0., 0., 0., 0., 0., 0., 0., 0., 0., 0., 0., 0., 0., 0., 0., 0.,\n",
       "       0., 0., 0., 0., 0., 0., 0., 0., 0., 0., 0., 0., 0., 0., 0., 0., 0.,\n",
       "       0., 0., 0., 0., 0., 0., 0., 0., 0., 0., 0., 0., 0., 0., 0., 0., 0.,\n",
       "       0., 0., 0., 0., 0., 0., 0., 0., 0., 0., 0., 0., 0., 0., 0., 0., 0.,\n",
       "       0., 0., 0., 0., 0., 0., 0., 0., 0., 0., 0., 0., 0., 0., 0., 0., 0.,\n",
       "       0., 0., 0., 0., 0., 0., 0., 0., 0., 0., 0., 0., 0., 0., 0., 0., 0.,\n",
       "       0., 0., 0., 0., 0., 0., 0., 0., 0., 0., 0., 0., 0., 0., 0., 0.])"
      ]
     },
     "execution_count": 96,
     "metadata": {},
     "output_type": "execute_result"
    }
   ],
   "source": [
    "predict= model2.predict(X_test)\n",
    "predict"
   ]
  },
  {
   "cell_type": "code",
   "execution_count": 97,
   "id": "15dfc957-e37f-4228-825c-b0aafa08ce6c",
   "metadata": {},
   "outputs": [
    {
     "data": {
      "text/plain": [
       "array([[0.83987194, 0.16012806],\n",
       "       [0.80804494, 0.19195506],\n",
       "       [0.74504046, 0.25495954],\n",
       "       [0.88268348, 0.11731652],\n",
       "       [0.73506448, 0.26493552],\n",
       "       [0.76774127, 0.23225873],\n",
       "       [0.83020367, 0.16979633],\n",
       "       [0.8621706 , 0.1378294 ],\n",
       "       [0.958263  , 0.041737  ],\n",
       "       [0.92928206, 0.07071794],\n",
       "       [0.95138793, 0.04861207],\n",
       "       [0.83798113, 0.16201887],\n",
       "       [0.83541258, 0.16458742],\n",
       "       [0.83721804, 0.16278196],\n",
       "       [0.88906619, 0.11093381],\n",
       "       [0.86480604, 0.13519396],\n",
       "       [0.86272335, 0.13727665],\n",
       "       [0.74969565, 0.25030435],\n",
       "       [0.84323484, 0.15676516],\n",
       "       [0.90688753, 0.09311247],\n",
       "       [0.67697273, 0.32302727],\n",
       "       [0.94009947, 0.05990053],\n",
       "       [0.85007292, 0.14992708],\n",
       "       [0.80675933, 0.19324067],\n",
       "       [0.60842909, 0.39157091],\n",
       "       [0.84261441, 0.15738559],\n",
       "       [0.91722779, 0.08277221],\n",
       "       [0.91639073, 0.08360927],\n",
       "       [0.6500218 , 0.3499782 ],\n",
       "       [0.87484462, 0.12515538],\n",
       "       [0.89591458, 0.10408542],\n",
       "       [0.92229305, 0.07770695],\n",
       "       [0.86455383, 0.13544617],\n",
       "       [0.95229028, 0.04770972],\n",
       "       [0.86809433, 0.13190567],\n",
       "       [0.8499846 , 0.1500154 ],\n",
       "       [0.90478212, 0.09521788],\n",
       "       [0.73588589, 0.26411411],\n",
       "       [0.89119139, 0.10880861],\n",
       "       [0.79617149, 0.20382851],\n",
       "       [0.9395637 , 0.0604363 ],\n",
       "       [0.79663478, 0.20336522],\n",
       "       [0.9319812 , 0.0680188 ],\n",
       "       [0.91793595, 0.08206405],\n",
       "       [0.87833227, 0.12166773],\n",
       "       [0.82794048, 0.17205952],\n",
       "       [0.76486433, 0.23513567],\n",
       "       [0.81931171, 0.18068829],\n",
       "       [0.6506446 , 0.3493554 ],\n",
       "       [0.73407799, 0.26592201],\n",
       "       [0.92078241, 0.07921759],\n",
       "       [0.79208696, 0.20791304],\n",
       "       [0.83992816, 0.16007184],\n",
       "       [0.86300107, 0.13699893],\n",
       "       [0.84529863, 0.15470137],\n",
       "       [0.82674006, 0.17325994],\n",
       "       [0.8534969 , 0.1465031 ],\n",
       "       [0.8679933 , 0.1320067 ],\n",
       "       [0.8359628 , 0.1640372 ],\n",
       "       [0.83740954, 0.16259046],\n",
       "       [0.93326285, 0.06673715],\n",
       "       [0.65912178, 0.34087822],\n",
       "       [0.94159941, 0.05840059],\n",
       "       [0.81158777, 0.18841223],\n",
       "       [0.80774483, 0.19225517],\n",
       "       [0.89290511, 0.10709489],\n",
       "       [0.89758221, 0.10241779],\n",
       "       [0.8608617 , 0.1391383 ],\n",
       "       [0.87625542, 0.12374458],\n",
       "       [0.82778696, 0.17221304],\n",
       "       [0.94191492, 0.05808508],\n",
       "       [0.73802462, 0.26197538],\n",
       "       [0.85061195, 0.14938805],\n",
       "       [0.83449592, 0.16550408],\n",
       "       [0.78178309, 0.21821691],\n",
       "       [0.72410812, 0.27589188],\n",
       "       [0.92522171, 0.07477829],\n",
       "       [0.94615255, 0.05384745],\n",
       "       [0.75315652, 0.24684348],\n",
       "       [0.89738679, 0.10261321],\n",
       "       [0.91631261, 0.08368739],\n",
       "       [0.8272703 , 0.1727297 ],\n",
       "       [0.78521326, 0.21478674],\n",
       "       [0.85627861, 0.14372139],\n",
       "       [0.84164729, 0.15835271],\n",
       "       [0.75828683, 0.24171317],\n",
       "       [0.97632868, 0.02367132],\n",
       "       [0.93267878, 0.06732122],\n",
       "       [0.86303114, 0.13696886],\n",
       "       [0.80363573, 0.19636427],\n",
       "       [0.61411717, 0.38588283],\n",
       "       [0.83166421, 0.16833579],\n",
       "       [0.74938083, 0.25061917],\n",
       "       [0.8466052 , 0.1533948 ],\n",
       "       [0.86209845, 0.13790155],\n",
       "       [0.7770846 , 0.2229154 ],\n",
       "       [0.78305288, 0.21694712],\n",
       "       [0.84178721, 0.15821279],\n",
       "       [0.82977808, 0.17022192],\n",
       "       [0.85891488, 0.14108512],\n",
       "       [0.70989013, 0.29010987],\n",
       "       [0.78627298, 0.21372702],\n",
       "       [0.98056656, 0.01943344],\n",
       "       [0.89727613, 0.10272387],\n",
       "       [0.80729362, 0.19270638],\n",
       "       [0.91315604, 0.08684396],\n",
       "       [0.88451503, 0.11548497],\n",
       "       [0.69953271, 0.30046729],\n",
       "       [0.87735921, 0.12264079],\n",
       "       [0.88712209, 0.11287791],\n",
       "       [0.80985699, 0.19014301],\n",
       "       [0.9623909 , 0.0376091 ],\n",
       "       [0.92734407, 0.07265593],\n",
       "       [0.84019249, 0.15980751],\n",
       "       [0.80150233, 0.19849767],\n",
       "       [0.90356498, 0.09643502],\n",
       "       [0.88250303, 0.11749697],\n",
       "       [0.81382521, 0.18617479],\n",
       "       [0.94347873, 0.05652127],\n",
       "       [0.89409164, 0.10590836],\n",
       "       [0.87131008, 0.12868992],\n",
       "       [0.83013954, 0.16986046],\n",
       "       [0.84776018, 0.15223982],\n",
       "       [0.76071856, 0.23928144],\n",
       "       [0.9035928 , 0.0964072 ],\n",
       "       [0.9626822 , 0.0373178 ],\n",
       "       [0.93038126, 0.06961874],\n",
       "       [0.7806683 , 0.2193317 ],\n",
       "       [0.86077057, 0.13922943],\n",
       "       [0.82186556, 0.17813444],\n",
       "       [0.96695288, 0.03304712],\n",
       "       [0.87129521, 0.12870479],\n",
       "       [0.80714908, 0.19285092],\n",
       "       [0.8050673 , 0.1949327 ],\n",
       "       [0.93946178, 0.06053822],\n",
       "       [0.95354869, 0.04645131],\n",
       "       [0.74465752, 0.25534248],\n",
       "       [0.92616847, 0.07383153],\n",
       "       [0.74525612, 0.25474388],\n",
       "       [0.82753329, 0.17246671],\n",
       "       [0.84330041, 0.15669959],\n",
       "       [0.88446626, 0.11553374],\n",
       "       [0.81670242, 0.18329758],\n",
       "       [0.87536247, 0.12463753],\n",
       "       [0.91640781, 0.08359219],\n",
       "       [0.90954102, 0.09045898],\n",
       "       [0.95723934, 0.04276066],\n",
       "       [0.95552526, 0.04447474],\n",
       "       [0.91413008, 0.08586992],\n",
       "       [0.69057884, 0.30942116],\n",
       "       [0.81926733, 0.18073267],\n",
       "       [0.82554983, 0.17445017],\n",
       "       [0.82287561, 0.17712439],\n",
       "       [0.96252032, 0.03747968],\n",
       "       [0.91664795, 0.08335205],\n",
       "       [0.93847752, 0.06152248],\n",
       "       [0.9737453 , 0.0262547 ],\n",
       "       [0.80032568, 0.19967432],\n",
       "       [0.88080391, 0.11919609],\n",
       "       [0.84201521, 0.15798479],\n",
       "       [0.93860691, 0.06139309],\n",
       "       [0.91469784, 0.08530216],\n",
       "       [0.74271036, 0.25728964],\n",
       "       [0.7509449 , 0.2490551 ],\n",
       "       [0.94333777, 0.05666223],\n",
       "       [0.86037384, 0.13962616],\n",
       "       [0.84606897, 0.15393103],\n",
       "       [0.75987275, 0.24012725],\n",
       "       [0.75701255, 0.24298745],\n",
       "       [0.91186936, 0.08813064],\n",
       "       [0.90894918, 0.09105082],\n",
       "       [0.93619167, 0.06380833],\n",
       "       [0.92145384, 0.07854616],\n",
       "       [0.6561198 , 0.3438802 ],\n",
       "       [0.94843074, 0.05156926],\n",
       "       [0.70159034, 0.29840966],\n",
       "       [0.75717343, 0.24282657],\n",
       "       [0.91679194, 0.08320806],\n",
       "       [0.79369327, 0.20630673],\n",
       "       [0.8543246 , 0.1456754 ],\n",
       "       [0.67495621, 0.32504379],\n",
       "       [0.89492065, 0.10507935],\n",
       "       [0.8978511 , 0.1021489 ],\n",
       "       [0.83964522, 0.16035478],\n",
       "       [0.9190598 , 0.0809402 ],\n",
       "       [0.87684726, 0.12315274],\n",
       "       [0.89164695, 0.10835305],\n",
       "       [0.84270606, 0.15729394],\n",
       "       [0.78610804, 0.21389196],\n",
       "       [0.80245595, 0.19754405],\n",
       "       [0.753406  , 0.246594  ],\n",
       "       [0.69420215, 0.30579785],\n",
       "       [0.85225218, 0.14774782],\n",
       "       [0.84100317, 0.15899683],\n",
       "       [0.73753122, 0.26246878],\n",
       "       [0.90157819, 0.09842181],\n",
       "       [0.81096651, 0.18903349],\n",
       "       [0.93306448, 0.06693552],\n",
       "       [0.75604065, 0.24395935],\n",
       "       [0.86739216, 0.13260784],\n",
       "       [0.83137826, 0.16862174],\n",
       "       [0.78143953, 0.21856047],\n",
       "       [0.69892787, 0.30107213],\n",
       "       [0.83800042, 0.16199958],\n",
       "       [0.7940871 , 0.2059129 ],\n",
       "       [0.77265661, 0.22734339],\n",
       "       [0.75859421, 0.24140579],\n",
       "       [0.90793345, 0.09206655],\n",
       "       [0.78575958, 0.21424042],\n",
       "       [0.88808122, 0.11191878],\n",
       "       [0.84553111, 0.15446889],\n",
       "       [0.72254037, 0.27745963],\n",
       "       [0.87527207, 0.12472793],\n",
       "       [0.72399703, 0.27600297],\n",
       "       [0.92945454, 0.07054546],\n",
       "       [0.81403809, 0.18596191],\n",
       "       [0.95252224, 0.04747776],\n",
       "       [0.82416178, 0.17583822],\n",
       "       [0.83816549, 0.16183451],\n",
       "       [0.77113134, 0.22886866],\n",
       "       [0.87015204, 0.12984796],\n",
       "       [0.718695  , 0.281305  ],\n",
       "       [0.68019476, 0.31980524],\n",
       "       [0.9884792 , 0.0115208 ],\n",
       "       [0.73150708, 0.26849292],\n",
       "       [0.91204786, 0.08795214],\n",
       "       [0.90762321, 0.09237679],\n",
       "       [0.74006877, 0.25993123],\n",
       "       [0.63518151, 0.36481849],\n",
       "       [0.79270705, 0.20729295],\n",
       "       [0.94872652, 0.05127348],\n",
       "       [0.85661529, 0.14338471],\n",
       "       [0.83082403, 0.16917597],\n",
       "       [0.90925729, 0.09074271],\n",
       "       [0.86753495, 0.13246505],\n",
       "       [0.77782728, 0.22217272],\n",
       "       [0.78523189, 0.21476811],\n",
       "       [0.91294548, 0.08705452],\n",
       "       [0.77550356, 0.22449644],\n",
       "       [0.94316574, 0.05683426],\n",
       "       [0.89440811, 0.10559189],\n",
       "       [0.74387872, 0.25612128],\n",
       "       [0.9757721 , 0.0242279 ],\n",
       "       [0.83476105, 0.16523895],\n",
       "       [0.91607631, 0.08392369],\n",
       "       [0.81382826, 0.18617174],\n",
       "       [0.82518044, 0.17481956],\n",
       "       [0.86462103, 0.13537897],\n",
       "       [0.86066718, 0.13933282],\n",
       "       [0.86370818, 0.13629182],\n",
       "       [0.80794345, 0.19205655],\n",
       "       [0.89167901, 0.10832099],\n",
       "       [0.57011719, 0.42988281],\n",
       "       [0.87700185, 0.12299815],\n",
       "       [0.87672231, 0.12327769],\n",
       "       [0.85707638, 0.14292362],\n",
       "       [0.98130995, 0.01869005],\n",
       "       [0.74857808, 0.25142192],\n",
       "       [0.70566048, 0.29433952],\n",
       "       [0.81553134, 0.18446866],\n",
       "       [0.83058529, 0.16941471],\n",
       "       [0.81705519, 0.18294481],\n",
       "       [0.88466799, 0.11533201],\n",
       "       [0.76230073, 0.23769927],\n",
       "       [0.84281608, 0.15718392],\n",
       "       [0.89225584, 0.10774416],\n",
       "       [0.82385947, 0.17614053],\n",
       "       [0.78629244, 0.21370756],\n",
       "       [0.74566803, 0.25433197],\n",
       "       [0.84815366, 0.15184634],\n",
       "       [0.81757052, 0.18242948],\n",
       "       [0.84083537, 0.15916463],\n",
       "       [0.66591995, 0.33408005],\n",
       "       [0.88225028, 0.11774972],\n",
       "       [0.89871825, 0.10128175],\n",
       "       [0.91534177, 0.08465823],\n",
       "       [0.80705069, 0.19294931],\n",
       "       [0.87535753, 0.12464247],\n",
       "       [0.91236406, 0.08763594],\n",
       "       [0.76898586, 0.23101414],\n",
       "       [0.69963843, 0.30036157],\n",
       "       [0.81505481, 0.18494519],\n",
       "       [0.73178808, 0.26821192],\n",
       "       [0.85739625, 0.14260375],\n",
       "       [0.99091381, 0.00908619],\n",
       "       [0.8386028 , 0.1613972 ],\n",
       "       [0.86468224, 0.13531776],\n",
       "       [0.83342636, 0.16657364],\n",
       "       [0.9428274 , 0.0571726 ],\n",
       "       [0.85424806, 0.14575194],\n",
       "       [0.86299867, 0.13700133],\n",
       "       [0.80341374, 0.19658626],\n",
       "       [0.83657754, 0.16342246],\n",
       "       [0.84497533, 0.15502467],\n",
       "       [0.87003623, 0.12996377],\n",
       "       [0.85448822, 0.14551178],\n",
       "       [0.79221626, 0.20778374],\n",
       "       [0.85679274, 0.14320726],\n",
       "       [0.59622837, 0.40377163],\n",
       "       [0.92751119, 0.07248881],\n",
       "       [0.88349433, 0.11650567],\n",
       "       [0.72547181, 0.27452819],\n",
       "       [0.63939344, 0.36060656],\n",
       "       [0.84902023, 0.15097977],\n",
       "       [0.85569944, 0.14430056],\n",
       "       [0.96908195, 0.03091805],\n",
       "       [0.84249284, 0.15750716],\n",
       "       [0.86687926, 0.13312074],\n",
       "       [0.92148035, 0.07851965],\n",
       "       [0.91068622, 0.08931378],\n",
       "       [0.87127341, 0.12872659],\n",
       "       [0.86336765, 0.13663235],\n",
       "       [0.85233921, 0.14766079],\n",
       "       [0.83621902, 0.16378098],\n",
       "       [0.75740515, 0.24259485],\n",
       "       [0.82139637, 0.17860363],\n",
       "       [0.8218405 , 0.1781595 ],\n",
       "       [0.79998399, 0.20001601],\n",
       "       [0.7922451 , 0.2077549 ],\n",
       "       [0.87232363, 0.12767637],\n",
       "       [0.70447373, 0.29552627],\n",
       "       [0.91143986, 0.08856014],\n",
       "       [0.7933691 , 0.2066309 ],\n",
       "       [0.64596989, 0.35403011],\n",
       "       [0.89324079, 0.10675921],\n",
       "       [0.9258258 , 0.0741742 ],\n",
       "       [0.87768276, 0.12231724],\n",
       "       [0.86972155, 0.13027845],\n",
       "       [0.95025781, 0.04974219],\n",
       "       [0.88842894, 0.11157106],\n",
       "       [0.94857404, 0.05142596],\n",
       "       [0.79983324, 0.20016676],\n",
       "       [0.87580552, 0.12419448],\n",
       "       [0.80827793, 0.19172207],\n",
       "       [0.79021944, 0.20978056],\n",
       "       [0.94936352, 0.05063648],\n",
       "       [0.84084053, 0.15915947],\n",
       "       [0.89141985, 0.10858015],\n",
       "       [0.82524075, 0.17475925],\n",
       "       [0.81363695, 0.18636305],\n",
       "       [0.76114094, 0.23885906],\n",
       "       [0.7824367 , 0.2175633 ],\n",
       "       [0.79235554, 0.20764446],\n",
       "       [0.81388667, 0.18611333],\n",
       "       [0.90056626, 0.09943374],\n",
       "       [0.9092196 , 0.0907804 ],\n",
       "       [0.64422592, 0.35577408],\n",
       "       [0.98863445, 0.01136555],\n",
       "       [0.80447912, 0.19552088],\n",
       "       [0.77587632, 0.22412368],\n",
       "       [0.73294882, 0.26705118],\n",
       "       [0.64009537, 0.35990463],\n",
       "       [0.76986147, 0.23013853],\n",
       "       [0.84800397, 0.15199603],\n",
       "       [0.84581765, 0.15418235],\n",
       "       [0.87911386, 0.12088614],\n",
       "       [0.83311018, 0.16688982],\n",
       "       [0.81441367, 0.18558633],\n",
       "       [0.92436487, 0.07563513],\n",
       "       [0.80429059, 0.19570941],\n",
       "       [0.97157562, 0.02842438],\n",
       "       [0.90631196, 0.09368804],\n",
       "       [0.91425061, 0.08574939],\n",
       "       [0.81728273, 0.18271727],\n",
       "       [0.76356676, 0.23643324],\n",
       "       [0.94254524, 0.05745476],\n",
       "       [0.93610767, 0.06389233],\n",
       "       [0.75299684, 0.24700316],\n",
       "       [0.85216474, 0.14783526],\n",
       "       [0.78454104, 0.21545896],\n",
       "       [0.92697949, 0.07302051],\n",
       "       [0.83646318, 0.16353682],\n",
       "       [0.82931124, 0.17068876],\n",
       "       [0.88755515, 0.11244485],\n",
       "       [0.77486806, 0.22513194],\n",
       "       [0.92773896, 0.07226104],\n",
       "       [0.89855143, 0.10144857],\n",
       "       [0.89989482, 0.10010518],\n",
       "       [0.76966499, 0.23033501],\n",
       "       [0.93779713, 0.06220287],\n",
       "       [0.81402511, 0.18597489],\n",
       "       [0.88346606, 0.11653394],\n",
       "       [0.87528417, 0.12471583],\n",
       "       [0.76578597, 0.23421403],\n",
       "       [0.92615815, 0.07384185],\n",
       "       [0.58812231, 0.41187769],\n",
       "       [0.94562073, 0.05437927],\n",
       "       [0.74028891, 0.25971109],\n",
       "       [0.89559654, 0.10440346],\n",
       "       [0.80893958, 0.19106042],\n",
       "       [0.88011801, 0.11988199],\n",
       "       [0.95906281, 0.04093719],\n",
       "       [0.7936718 , 0.2063282 ],\n",
       "       [0.85053213, 0.14946787],\n",
       "       [0.65656633, 0.34343367],\n",
       "       [0.85595753, 0.14404247],\n",
       "       [0.91880566, 0.08119434],\n",
       "       [0.81434666, 0.18565334],\n",
       "       [0.90700715, 0.09299285],\n",
       "       [0.8995139 , 0.1004861 ],\n",
       "       [0.70920029, 0.29079971],\n",
       "       [0.79791789, 0.20208211],\n",
       "       [0.95996332, 0.04003668],\n",
       "       [0.85030265, 0.14969735],\n",
       "       [0.87704828, 0.12295172],\n",
       "       [0.8649153 , 0.1350847 ],\n",
       "       [0.77840487, 0.22159513],\n",
       "       [0.88646537, 0.11353463],\n",
       "       [0.81623807, 0.18376193],\n",
       "       [0.82010384, 0.17989616],\n",
       "       [0.81658887, 0.18341113],\n",
       "       [0.93085059, 0.06914941],\n",
       "       [0.81186552, 0.18813448],\n",
       "       [0.78447802, 0.21552198],\n",
       "       [0.70893216, 0.29106784],\n",
       "       [0.86275681, 0.13724319],\n",
       "       [0.84629442, 0.15370558],\n",
       "       [0.85514738, 0.14485262],\n",
       "       [0.86178579, 0.13821421],\n",
       "       [0.87833227, 0.12166773],\n",
       "       [0.79626462, 0.20373538],\n",
       "       [0.7366232 , 0.2633768 ],\n",
       "       [0.96626712, 0.03373288],\n",
       "       [0.9504813 , 0.0495187 ],\n",
       "       [0.88180814, 0.11819186],\n",
       "       [0.8809794 , 0.1190206 ],\n",
       "       [0.84493268, 0.15506732],\n",
       "       [0.75692431, 0.24307569],\n",
       "       [0.71918135, 0.28081865],\n",
       "       [0.92113253, 0.07886747],\n",
       "       [0.63940983, 0.36059017],\n",
       "       [0.78186374, 0.21813626],\n",
       "       [0.92875013, 0.07124987],\n",
       "       [0.85304559, 0.14695441],\n",
       "       [0.93499736, 0.06500264],\n",
       "       [0.80614405, 0.19385595],\n",
       "       [0.88429525, 0.11570475],\n",
       "       [0.82796092, 0.17203908],\n",
       "       [0.69082537, 0.30917463],\n",
       "       [0.92082528, 0.07917472],\n",
       "       [0.89001269, 0.10998731]])"
      ]
     },
     "execution_count": 97,
     "metadata": {},
     "output_type": "execute_result"
    }
   ],
   "source": [
    "probs= model2.predict_proba(X_test)\n",
    "probs"
   ]
  },
  {
   "cell_type": "code",
   "execution_count": 98,
   "id": "676173e2-3366-4711-ad41-41c01e911574",
   "metadata": {},
   "outputs": [
    {
     "name": "stdout",
     "output_type": "stream",
     "text": [
      "0.8412698412698413\n",
      "0.6581440123219099\n"
     ]
    }
   ],
   "source": [
    "from sklearn import metrics\n",
    "print(metrics.accuracy_score(y_test,predict))\n",
    "print(metrics.roc_auc_score(y_test,probs[:,1]))"
   ]
  },
  {
   "cell_type": "code",
   "execution_count": 100,
   "id": "d4777f05-de14-4469-9638-bf95fc42ef75",
   "metadata": {},
   "outputs": [
    {
     "name": "stdout",
     "output_type": "stream",
     "text": [
      "[[371   0]\n",
      " [ 70   0]]\n",
      "              precision    recall  f1-score   support\n",
      "\n",
      "         0.0       0.84      1.00      0.91       371\n",
      "         1.0       1.00      0.00      0.00        70\n",
      "\n",
      "    accuracy                           0.84       441\n",
      "   macro avg       0.92      0.50      0.46       441\n",
      "weighted avg       0.87      0.84      0.77       441\n",
      "\n"
     ]
    }
   ],
   "source": [
    "print(metrics.confusion_matrix(y_test,predict))\n",
    "print(metrics.classification_report(y_test,predict, zero_division=1))"
   ]
  },
  {
   "cell_type": "code",
   "execution_count": 104,
   "id": "20d18666-5b68-4c12-8ebe-987dd0e05a39",
   "metadata": {},
   "outputs": [
    {
     "name": "stdout",
     "output_type": "stream",
     "text": [
      "[0. 1. 0. 0. 0. 0. 0. 0. 1. 0. 0. 0. 0. 0. 0. 0. 1. 1. 0. 0. 1. 1. 0. 0.\n",
      " 0. 0. 0. 0. 0. 0.]\n",
      "[0. 0. 0. 0. 0. 0. 0. 0. 0. 0. 0. 0. 0. 0. 0. 0. 0. 0. 0. 0. 0. 0. 0. 0.\n",
      " 0. 0. 0. 0. 0. 0.]\n"
     ]
    }
   ],
   "source": [
    "print(y_train[0:30])\n",
    "print(predict[0:30])"
   ]
  },
  {
   "cell_type": "markdown",
   "id": "679c32cf-1e5e-44ce-bd3b-dfe530798620",
   "metadata": {},
   "source": [
    "# our logistic regression model is accurate with 84% "
   ]
  }
 ],
 "metadata": {
  "kernelspec": {
   "display_name": "Python 3 (ipykernel)",
   "language": "python",
   "name": "python3"
  },
  "language_info": {
   "codemirror_mode": {
    "name": "ipython",
    "version": 3
   },
   "file_extension": ".py",
   "mimetype": "text/x-python",
   "name": "python",
   "nbconvert_exporter": "python",
   "pygments_lexer": "ipython3",
   "version": "3.9.7"
  }
 },
 "nbformat": 4,
 "nbformat_minor": 5
}
